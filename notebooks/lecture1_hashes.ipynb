{
  "cells": [
    {
      "cell_type": "markdown",
      "id": "5d1dd277",
      "metadata": {
        "id": "5d1dd277"
      },
      "source": [
        "# Lecture 1 hashes and datastructures"
      ]
    },
    {
      "cell_type": "code",
      "execution_count": null,
      "id": "ef05ce3c",
      "metadata": {
        "id": "ef05ce3c"
      },
      "outputs": [],
      "source": [
        "#Import statements\n",
        "import hashlib as hasher\n",
        "\n",
        "def hashbits(input):\n",
        "    hash_obj = hasher.sha256()\n",
        "    inputbytes = input.encode()\n",
        "    # print(type(inputbytes))\n",
        "    hash_obj.update(inputbytes)\n",
        "    hashbytes = hash_obj.digest()\n",
        "    return ''.join(f'{x:08b}' for x in hashbytes)\n",
        "\n",
        "\n",
        "\n",
        "def mdbits(input):\n",
        "    hash_obj = hasher.md5()\n",
        "    inputbytes = input.encode()\n",
        "    # print(type(inputbytes))\n",
        "    hash_obj.update(inputbytes)\n",
        "    hashbytes = hash_obj.digest()\n",
        "    return ''.join(f'{x:08b}' for x in hashbytes)\n",
        "\n",
        "def hash(input):\n",
        "    hash_obj = hasher.sha256()\n",
        "    inputbytes = input.encode()\n",
        "    #print(type(inputbytes))\n",
        "    hash_obj.update(inputbytes)\n",
        "    return hash_obj.hexdigest()"
      ]
    },
    {
      "cell_type": "code",
      "execution_count": null,
      "id": "35544db9",
      "metadata": {
        "id": "35544db9",
        "outputId": "450c1c4d-9eb9-41f6-9065-f7ec1ccd3927"
      },
      "outputs": [],
      "source": [
        "print(hashbits(\"hello world!\"))\n",
        "print(hash(\"hello world!\"))"
      ]
    },
    {
      "cell_type": "markdown",
      "id": "37bbdd87",
      "metadata": {
        "id": "37bbdd87"
      },
      "source": [
        "## Exercise 1\n",
        "\n",
        "### Hashes look random but are deterministic:\n",
        "* Try out different hash functions, find out how many bytes/bits they return (sha1, md5, sha512)\n",
        "* Try out hashing the same value twice. Does it give the same result?\n",
        "* Try concatenating a two strings in different orders, do they hash to the same value?\n",
        "* Hash 10 different strings, how many have the first bit 0?\n",
        "* Hash 160 different strings, how many have the first character 0 in hexadecimal representatnion?\n",
        "* Hash 50 different strings and count the number of 1s and 0s in the binary representation of each hash. Are the numbers of 1s and 0s roughly equal?\n",
        "* Find a different test to check if the hashes are random?"
      ]
    },
    {
      "cell_type": "code",
      "execution_count": null,
      "id": "afd21394",
      "metadata": {},
      "outputs": [],
      "source": []
    },
    {
      "cell_type": "code",
      "execution_count": null,
      "id": "f416da03",
      "metadata": {
        "id": "f416da03"
      },
      "outputs": [],
      "source": []
    },
    {
      "cell_type": "markdown",
      "id": "RTQRXBxjWsQi",
      "metadata": {
        "id": "RTQRXBxjWsQi"
      },
      "source": [
        "## Exercise 2\n",
        "\n",
        "### Avalanche Effect\n",
        "1. Hash a string of your choice (e.g., \"blockchain\") and note the output. Then, change a single character in the string (e.g., \"Blockchain\") and hash it again. Compare the two hashes. How many bits differ between them?\n",
        "\n",
        "2. Try this with different hash functions and different small changes in the input (e.g., changing one letter, adding a space). How consistent is the avalanche effect across different functions?"
      ]
    },
    {
      "cell_type": "code",
      "execution_count": null,
      "id": "w3dhpMfVXYKq",
      "metadata": {
        "id": "w3dhpMfVXYKq"
      },
      "outputs": [],
      "source": []
    },
    {
      "cell_type": "markdown",
      "id": "ac097c16",
      "metadata": {
        "id": "ac097c16"
      },
      "source": [
        "## Exercise 3\n",
        "\n",
        "### Collision resistance\n",
        "1. Compute hashes of differnt strings, until you find one that ends with the same hexadecimal number as the hash of \"*hello world*\". How many did you have to try?\n",
        "2. Compute hashes of different stings, until you have found 2 that end with the same hexdecimal number. How many did you have to try?"
      ]
    },
    {
      "cell_type": "code",
      "execution_count": null,
      "id": "3931d5c3",
      "metadata": {
        "id": "3931d5c3"
      },
      "outputs": [],
      "source": []
    },
    {
      "cell_type": "markdown",
      "id": "B-ajCTyMXa_c",
      "metadata": {
        "id": "B-ajCTyMXa_c"
      },
      "source": [
        "## Exercise 4\n",
        "\n",
        "### Efficiency\n",
        "Write a small program that hashes a large number of strings (e.g., 100000) using different hash functions (e.g., SHA-1, MD5, SHA-256). Measure and compare the time taken by each function."
      ]
    },
    {
      "cell_type": "code",
      "execution_count": null,
      "id": "48fd40d1",
      "metadata": {},
      "outputs": [],
      "source": [
        "import time\n",
        "\n",
        "# Define the list of strings to hash\n",
        "string = \"Hello, World!\"\n",
        "\n",
        "# Define the hash functions to use\n",
        "hash_functions = [hasher.md5, hasher.sha1, hasher.sha256, hasher.sha512, hasher.sha3_256]\n",
        "\n",
        "# Iterate over each hash function\n",
        "for hash_func in hash_functions:\n",
        "    # Start the timer\n",
        "    start_time = time.time()\n",
        "    \n",
        "    # Hash each string using the current hash function\n",
        "    for i in range(1000000):\n",
        "        hash_obj = hash_func()\n",
        "        hash_obj.update((string+str(i)).encode())\n",
        "        hash_result = hash_obj.hexdigest()\n",
        "        #print(hash_result)  # Uncomment this line to print the hash result\n",
        "    \n",
        "    # Calculate the elapsed time\n",
        "    elapsed_time = time.time() - start_time\n",
        "    \n",
        "    # Print the elapsed time for the current hash function\n",
        "    print(f\"Hash function: {hash_func.__name__}, Elapsed time: {elapsed_time} seconds\")"
      ]
    },
    {
      "cell_type": "markdown",
      "id": "62da38e9",
      "metadata": {
        "id": "62da38e9"
      },
      "source": [
        "## Exercise 5\n",
        "\n",
        "### Hash chain\n",
        "Below is a stub for Block and Hashlist classes.\n",
        "1. Complete `hash_block`, `add` and `check` functions.\n",
        "2. Create a hash list with 3 or more blocks and show that check works as expected.\n",
        "3. Verify that check detects changes in the data in the list.\n",
        "4. Verify that check detects, if a new Block is inserted somewhere in the list.\n",
        "5. Update the HashList and Block classes:\n",
        "    * Create a dictionary where blocks are stored indexed by their hash\n",
        "    * Update `self.last` to only store the hash of the last block\n",
        "    * Remove the `previous` pointer from the `Block`\n",
        "    * Update the `check` and `add` function to use the dictionary.\n",
        "        Make sure it handles cases where the block is not present.\n"
      ]
    },
    {
      "cell_type": "code",
      "execution_count": null,
      "id": "1be83823",
      "metadata": {
        "id": "1be83823"
      },
      "outputs": [],
      "source": [
        "class Block:\n",
        "    def __init__(self, data, previous=None):\n",
        "        self.data = data\n",
        "        if previous is None:\n",
        "            self.previous = None\n",
        "            self.previous_hash = \"\"\n",
        "        else:\n",
        "            self.previous = previous\n",
        "            self.previous_hash = previous.hash\n",
        "        self.hash = self.hash_block()\n",
        "\n",
        "    def hash_block(self):\n",
        "        #add this function\n",
        "        # return the hash of the block as hexadecimal string\n",
        "        pass\n",
        "\n",
        "class HashList:\n",
        "    def __init__(self, genesis_data):\n",
        "        self.last = Block(genesis_data)\n",
        "    \n",
        "    def add(self,data):\n",
        "        #create a new block at the end of the chain and update self.last.\n",
        "        pass\n",
        "\n",
        "    def check(self):\n",
        "        #check if all the previous hashes in the list are correct.\n",
        "        #return True or False\n",
        "        return False"
      ]
    },
    {
      "cell_type": "markdown",
      "id": "e20082be",
      "metadata": {},
      "source": [
        "## Exercise 6 Merkle tree\n",
        "Complete the methods below, to \n",
        "- generate the merkle root, \n",
        "- generate a merkle proof and \n",
        "- check a merkle proof"
      ]
    },
    {
      "cell_type": "code",
      "execution_count": null,
      "id": "5aaa73b7",
      "metadata": {},
      "outputs": [],
      "source": [
        "class MerkleTree:\n",
        "    def __init__(self, datalist, length):\n",
        "        # oops, if length is not a power of 2, this will not work.\n",
        "        self.length = length\n",
        "        if len(datalist) > length:\n",
        "            print(\"Too many data items\")\n",
        "        for i in range(length):\n",
        "            if i >= len(datalist):\n",
        "                datalist.append(\"\")\n",
        "        self.hashes = [hash(d) for d in datalist]\n",
        "        self.root = \"\" # compute merkle root\n",
        "    def getroot(self):\n",
        "        return self.root\n",
        "    def getproof(self, index):\n",
        "        #return the proof for the data item at index\n",
        "        #as a list of hashes\n",
        "        #the proof should be the sibling hashes on the path to the root\n",
        "        #if the index is too large, return an empty list\n",
        "        return []\n",
        "        \n",
        "    \n",
        "def checkproof(root, index, proof, length, data):\n",
        "        #check if the proof is correct for the data item at index\n",
        "        #return True or False\n",
        "        return False\n"
      ]
    },
    {
      "cell_type": "code",
      "execution_count": null,
      "id": "c6bc4334",
      "metadata": {},
      "outputs": [],
      "source": [
        "mt = MerkleTree([\"a\",\"b\",\"c\",\"d\"], 4)\n",
        "print(mt.hashes)\n",
        "\n",
        "p = mt.getproof(0)\n",
        "print(p)\n",
        "\n",
        "print(checkproof(mt.getroot(), 0, p, 4, \"a\"))"
      ]
    }
  ],
  "metadata": {
    "colab": {
      "provenance": []
    },
    "kernelspec": {
      "display_name": "Python 3 (ipykernel)",
      "language": "python",
      "name": "python3"
    },
    "language_info": {
      "codemirror_mode": {
        "name": "ipython",
        "version": 3
      },
      "file_extension": ".py",
      "mimetype": "text/x-python",
      "name": "python",
      "nbconvert_exporter": "python",
      "pygments_lexer": "ipython3",
      "version": "3.10.10"
    }
  },
  "nbformat": 4,
  "nbformat_minor": 5
}
