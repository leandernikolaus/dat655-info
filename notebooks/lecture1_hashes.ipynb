{
  "cells": [
    {
      "cell_type": "markdown",
      "id": "5d1dd277",
      "metadata": {
        "id": "5d1dd277"
      },
      "source": [
        "# Lecture 1 hashes and datastructures"
      ]
    },
    {
      "cell_type": "code",
      "execution_count": 1,
      "id": "ef05ce3c",
      "metadata": {
        "id": "ef05ce3c"
      },
      "outputs": [],
      "source": [
        "#Import statements\n",
        "import hashlib as hasher\n",
        "\n",
        "def hashbits(input):\n",
        "    hash_obj = hasher.sha256()\n",
        "    inputbytes = input.encode()\n",
        "    # print(type(inputbytes))\n",
        "    hash_obj.update(inputbytes)\n",
        "    hashbytes = hash_obj.digest()\n",
        "    return ''.join(f'{x:08b}' for x in hashbytes)\n",
        "\n",
        "\n",
        "\n",
        "def mdbits(input):\n",
        "    hash_obj = hasher.md5()\n",
        "    inputbytes = input.encode()\n",
        "    # print(type(inputbytes))\n",
        "    hash_obj.update(inputbytes)\n",
        "    hashbytes = hash_obj.digest()\n",
        "    return ''.join(f'{x:08b}' for x in hashbytes)\n",
        "\n",
        "def hash(input):\n",
        "    hash_obj = hasher.sha256()\n",
        "    inputbytes = input.encode()\n",
        "    #print(type(inputbytes))\n",
        "    hash_obj.update(inputbytes)\n",
        "    return hash_obj.hexdigest()"
      ]
    },
    {
      "cell_type": "code",
      "execution_count": 2,
      "id": "35544db9",
      "metadata": {
        "id": "35544db9",
        "outputId": "450c1c4d-9eb9-41f6-9065-f7ec1ccd3927"
      },
      "outputs": [
        {
          "name": "stdout",
          "output_type": "stream",
          "text": [
            "0111010100001001111001011011110110100000110001110110001011010010101110101100011111111001000011010111010110001011010110110010001001100011111110100000000111001100101111000101010000101010101101011110001111011111000101100011101111100000100011100110110010101001\n",
            "7509e5bda0c762d2bac7f90d758b5b2263fa01ccbc542ab5e3df163be08e6ca9\n"
          ]
        }
      ],
      "source": [
        "print(hashbits(\"hello world!\"))\n",
        "print(hash(\"hello world!\"))"
      ]
    },
    {
      "cell_type": "markdown",
      "id": "37bbdd87",
      "metadata": {
        "id": "37bbdd87"
      },
      "source": [
        "## Exercise 1\n",
        "\n",
        "### Hashes look random but are deterministic:\n",
        "* Try out different hash functions, find out how many bytes/bits they return (sha1, md5, sha512)\n",
        "* Try out hashing the same value twice. Does it give the same result?\n",
        "* Try concatenating a two strings in different orders, do they hash to the same value?\n",
        "* Hash 10 different strings, how many have the first bit 0?\n",
        "* Hash 160 different strings, how many have the first character 0 in hexadecimal representatnion?\n",
        "* Hash 50 different strings and count the number of 1s and 0s in the binary representation of each hash. Are the numbers of 1s and 0s roughly equal?\n",
        "* Find a different test to check if the hashes are random?"
      ]
    },
    {
      "cell_type": "code",
      "execution_count": 3,
      "id": "afd21394",
      "metadata": {},
      "outputs": [],
      "source": [
        "def hash256(input):\n",
        "    hash_obj = hasher.sha256()\n",
        "    inputbytes = input.encode()\n",
        "    #print(type(inputbytes))\n",
        "    hash_obj.update(inputbytes)\n",
        "    return hash_obj.hexdigest()\n",
        "\n",
        "def hash1(input):\n",
        "    hash_obj = hasher.sha1()\n",
        "    inputbytes = input.encode()\n",
        "    #print(type(inputbytes))\n",
        "    hash_obj.update(inputbytes)\n",
        "    return hash_obj.hexdigest()\n",
        "\n",
        "def hashmd(input):\n",
        "    hash_obj = hasher.md5()\n",
        "    inputbytes = input.encode()\n",
        "    #print(type(inputbytes))\n",
        "    hash_obj.update(inputbytes)\n",
        "    return hash_obj.hexdigest()"
      ]
    },
    {
      "cell_type": "code",
      "execution_count": 8,
      "id": "f416da03",
      "metadata": {
        "id": "f416da03"
      },
      "outputs": [
        {
          "name": "stdout",
          "output_type": "stream",
          "text": [
            "256\n",
            "430ce34d020724ed75a196dfc2ad67c77772d169\n",
            "fc3ff98e8c6a0d3087d515c0473f8677\n"
          ]
        }
      ],
      "source": [
        "print(len( hash256(\"hello world!\")*4))\n",
        "print(hash1(\"hello world!\"))\n",
        "print(hashmd(\"hello world!\"))"
      ]
    },
    {
      "cell_type": "code",
      "execution_count": 16,
      "id": "c33db0d0",
      "metadata": {},
      "outputs": [
        {
          "name": "stdout",
          "output_type": "stream",
          "text": [
            "0.47265625\n",
            "0.5703125\n",
            "0.49609375\n",
            "0.55859375\n",
            "0.55859375\n",
            "0.5078125\n",
            "0.53125\n",
            "0.49609375\n",
            "0.484375\n",
            "0.4296875\n"
          ]
        }
      ],
      "source": [
        "base = \"hello world!\"\n",
        "\n",
        "\n",
        "for i in range(10):\n",
        "    h = hashbits(base+str(i))\n",
        "    n = 0\n",
        "    o = 0\n",
        "    for i in h:\n",
        "        if i == \"0\":\n",
        "            n += 1\n",
        "        else:\n",
        "            o += 1\n",
        "    print(n*1.0/(n+o))"
      ]
    },
    {
      "cell_type": "markdown",
      "id": "RTQRXBxjWsQi",
      "metadata": {
        "id": "RTQRXBxjWsQi"
      },
      "source": [
        "## Exercise 2\n",
        "\n",
        "### Avalanche Effect\n",
        "1. Hash a string of your choice (e.g., \"blockchain\") and note the output. Then, change a single character in the string (e.g., \"Blockchain\") and hash it again. Compare the two hashes. How many bits differ between them?\n",
        "\n",
        "2. Try this with different hash functions and different small changes in the input (e.g., changing one letter, adding a space). How consistent is the avalanche effect across different functions?"
      ]
    },
    {
      "cell_type": "code",
      "execution_count": 19,
      "id": "w3dhpMfVXYKq",
      "metadata": {
        "id": "w3dhpMfVXYKq"
      },
      "outputs": [
        {
          "name": "stdout",
          "output_type": "stream",
          "text": [
            "0.50390625\n"
          ]
        }
      ],
      "source": [
        "base = \"hello world!\"\n",
        "h = hashbits(base)\n",
        "\n",
        "h2 = hashbits(base+\"1\")\n",
        "equal = 0\n",
        "for i in range(256):\n",
        "    if h[i] == h2[i]:\n",
        "        equal += 1\n",
        "print(equal/256)\n"
      ]
    },
    {
      "cell_type": "markdown",
      "id": "ac097c16",
      "metadata": {
        "id": "ac097c16"
      },
      "source": [
        "## Exercise 3\n",
        "\n",
        "### Collision resistance\n",
        "1. Compute hashes of differnt strings, until you find one that ends with the same hexadecimal number as the hash of \"*hello world*\". How many did you have to try?\n",
        "2. Compute hashes of different stings, until you have found 2 that end with the same hexdecimal number. How many did you have to try?"
      ]
    },
    {
      "cell_type": "code",
      "execution_count": 29,
      "id": "3931d5c3",
      "metadata": {
        "id": "3931d5c3"
      },
      "outputs": [
        {
          "name": "stdout",
          "output_type": "stream",
          "text": [
            "0\n",
            "16\n",
            "139\n",
            "16\n",
            "232373\n",
            "572368\n"
          ]
        }
      ],
      "source": [
        "base = \"hello world\"\n",
        "h = hash(base)\n",
        "for i in range(8):\n",
        "    for j in range(1000000):\n",
        "        h2 = hash(base+str(i)+str(j))\n",
        "        if h2[64-i:] == h[64-i:]:\n",
        "            print(j)\n",
        "            break"
      ]
    },
    {
      "cell_type": "markdown",
      "id": "B-ajCTyMXa_c",
      "metadata": {
        "id": "B-ajCTyMXa_c"
      },
      "source": [
        "## Exercise 4\n",
        "\n",
        "### Efficiency\n",
        "Write a small program that hashes a large number of strings (e.g., 100000) using different hash functions (e.g., SHA-1, MD5, SHA-256). Measure and compare the time taken by each function."
      ]
    },
    {
      "cell_type": "code",
      "execution_count": 30,
      "id": "48fd40d1",
      "metadata": {},
      "outputs": [
        {
          "name": "stdout",
          "output_type": "stream",
          "text": [
            "Hash function: openssl_md5, Elapsed time: 1.6096951961517334 seconds\n",
            "Hash function: openssl_sha1, Elapsed time: 1.697533130645752 seconds\n",
            "Hash function: openssl_sha256, Elapsed time: 1.6326477527618408 seconds\n",
            "Hash function: openssl_sha512, Elapsed time: 1.9225490093231201 seconds\n",
            "Hash function: openssl_sha3_256, Elapsed time: 1.8664979934692383 seconds\n"
          ]
        }
      ],
      "source": [
        "import time\n",
        "\n",
        "# Define the list of strings to hash\n",
        "string = \"Hello, World!\"\n",
        "\n",
        "# Define the hash functions to use\n",
        "hash_functions = [hasher.md5, hasher.sha1, hasher.sha256, hasher.sha512, hasher.sha3_256]\n",
        "\n",
        "# Iterate over each hash function\n",
        "for hash_func in hash_functions:\n",
        "    # Start the timer\n",
        "    start_time = time.time()\n",
        "    \n",
        "    # Hash each string using the current hash function\n",
        "    for i in range(1000000):\n",
        "        hash_obj = hash_func()\n",
        "        hash_obj.update((string+str(i)).encode())\n",
        "        hash_result = hash_obj.hexdigest()\n",
        "        #print(hash_result)  # Uncomment this line to print the hash result\n",
        "    \n",
        "    # Calculate the elapsed time\n",
        "    elapsed_time = time.time() - start_time\n",
        "    \n",
        "    # Print the elapsed time for the current hash function\n",
        "    print(f\"Hash function: {hash_func.__name__}, Elapsed time: {elapsed_time} seconds\")"
      ]
    },
    {
      "cell_type": "markdown",
      "id": "62da38e9",
      "metadata": {
        "id": "62da38e9"
      },
      "source": [
        "## Exercise 5\n",
        "\n",
        "### Hash chain\n",
        "Below is a stub for Block and Hashlist classes.\n",
        "1. Complete `hash_block`, `add` and `check` functions.\n",
        "2. Create a hash list with 3 or more blocks and show that check works as expected.\n",
        "3. Verify that check detects changes in the data in the list.\n",
        "4. Verify that check detects, if a new Block is inserted somewhere in the list.\n",
        "5. Update the HashList and Block classes:\n",
        "    * Create a dictionary where blocks are stored indexed by their hash\n",
        "    * Update `self.last` to only store the hash of the last block\n",
        "    * Remove the `previous` pointer from the `Block`\n",
        "    * Update the `check` and `add` function to use the dictionary.\n",
        "        Make sure it handles cases where the block is not present.\n"
      ]
    },
    {
      "cell_type": "code",
      "execution_count": 48,
      "id": "1be83823",
      "metadata": {
        "id": "1be83823"
      },
      "outputs": [],
      "source": [
        "class Block:\n",
        "    def __init__(self, data, previous=\"\"):\n",
        "        self.data = data\n",
        "        \n",
        "        self.previous_hash = previous\n",
        "        self.hash = self.hash_block()\n",
        "\n",
        "    def hash_block(self):\n",
        "        #add this function\n",
        "        # return the hash of the block as hexadecimal string\n",
        "        return hash(self.data + self.previous_hash)\n",
        "\n",
        "class HashList:\n",
        "    def __init__(self, genesis_data):\n",
        "        genesis = Block(genesis_data)\n",
        "\n",
        "        self.blocks = {}\n",
        "        self.blocks[genesis.hash] = genesis\n",
        "        self.last = genesis.hash\n",
        "\n",
        "    \n",
        "    def add(self,data):\n",
        "        #create a new block at the end of the chain and update self.last.\n",
        "        \n",
        "        n = Block(data, self.last)\n",
        "        self.blocks[n.hash] = n\n",
        "        self.last = n.hash_block()\n",
        "\n",
        "    def check(self):\n",
        "        #check if all the previous hashes in the list are correct.\n",
        "        #return True or False\n",
        "        current = self.blocks[self.last]\n",
        "        previous = self.blocks.get(current.previous_hash,None)\n",
        "        while current.previous_hash != \"\":\n",
        "            if previous is None:\n",
        "                return False\n",
        "            if current.previous_hash != previous.hash_block():\n",
        "                return False\n",
        "            current = previous\n",
        "            previous = self.blocks.get(current.previous_hash,None)\n",
        "        return True"
      ]
    },
    {
      "cell_type": "code",
      "execution_count": 49,
      "id": "4ff0e09d",
      "metadata": {},
      "outputs": [
        {
          "name": "stdout",
          "output_type": "stream",
          "text": [
            "4c5bcdafc9bbfec95dee1a0c9982e20695d441f7730800a50243dff4a5caac1f\n",
            "7522e08e8ad1bcc8ecf6f44db65c1e684baf313c10052bb48b2abc9c7ec0f2d8\n",
            "f58a340ebf6cfeb46e5e5896c6b5939349c541c95ab51dd14042a7dbcae863ca\n",
            "fb02108b10d83869d55669c1e5c408fdc44a2e79a144e579554939975dc549ee\n",
            "b757f51227cced211412b0eaf42a96b4c93fd850f894fd7d64a5cbfa40ecbcf2\n",
            "32dfbffe6fd9b23ac3a47637844238747b658c06d80ac4569036258cf3deba19\n",
            "6233933d9805bdd0067ee917ca97178bd69b6444c14b5f3b93510e73739c3da0\n",
            "a00e1caae74d014c807e0bb280d7141fa9519dee04753e6c71a0d79a798a4dad\n",
            "d1f4b4beb6d49ea971f024ca10edd2c06ec88cc0b6e236e9de57724b305a3f83\n",
            "98116a4fcfc86ddb050cf0d9e42b8b7da8ed037c6688fe41f0bceaa014b1e952\n",
            "True\n"
          ]
        },
        {
          "ename": "AttributeError",
          "evalue": "'str' object has no attribute 'data'",
          "output_type": "error",
          "traceback": [
            "\u001b[0;31m---------------------------------------------------------------------------\u001b[0m",
            "\u001b[0;31mAttributeError\u001b[0m                            Traceback (most recent call last)",
            "Cell \u001b[0;32mIn[49], line 11\u001b[0m\n\u001b[1;32m      7\u001b[0m     \u001b[38;5;28mprint\u001b[39m(chain\u001b[38;5;241m.\u001b[39mlast)\n\u001b[1;32m      9\u001b[0m \u001b[38;5;28mprint\u001b[39m(chain\u001b[38;5;241m.\u001b[39mcheck())\n\u001b[0;32m---> 11\u001b[0m \u001b[43mb\u001b[49m\u001b[38;5;241;43m.\u001b[39;49m\u001b[43mdata\u001b[49m \u001b[38;5;241m=\u001b[39m \u001b[38;5;124m\"\u001b[39m\u001b[38;5;124mBlock X\u001b[39m\u001b[38;5;124m\"\u001b[39m\n\u001b[1;32m     13\u001b[0m \u001b[38;5;28mprint\u001b[39m(chain\u001b[38;5;241m.\u001b[39mcheck())\n",
            "\u001b[0;31mAttributeError\u001b[0m: 'str' object has no attribute 'data'"
          ]
        }
      ],
      "source": [
        "chain = HashList(\"Genesis\")\n",
        "b = None\n",
        "for i in range(10):\n",
        "    chain.add(\"Block \"+str(i))\n",
        "    if i == 3:\n",
        "        b = chain.last\n",
        "    print(chain.last)\n",
        "\n",
        "print(chain.check())\n",
        "\n",
        "# b.data = \"Block X\"\n",
        "\n",
        "print(chain.check())\n"
      ]
    },
    {
      "cell_type": "markdown",
      "id": "e20082be",
      "metadata": {},
      "source": [
        "## Exercise 6 Merkle tree\n",
        "Complete the methods below, to \n",
        "- generate the merkle root, \n",
        "- generate a merkle proof and \n",
        "- check a merkle proof"
      ]
    },
    {
      "cell_type": "code",
      "execution_count": 52,
      "id": "5aaa73b7",
      "metadata": {},
      "outputs": [],
      "source": [
        "class MerkleTree:\n",
        "    def __init__(self, datalist, length):\n",
        "        # oops, if length is not a power of 2, this will not work.\n",
        "        self.length = length\n",
        "        if len(datalist) > length:\n",
        "            print(\"Too many data items\")\n",
        "        for i in range(length):\n",
        "            if i >= len(datalist):\n",
        "                datalist.append(\"\")\n",
        "        self.hashes = [hash(d) for d in datalist]\n",
        "        ihashes = self.hashes\n",
        "        while len(ihashes) > 1:\n",
        "            newhashes = []\n",
        "            for i in range(0,len(ihashes),2):\n",
        "                newhashes.append(hash(ihashes[i]+ihashes[i+1]))\n",
        "            ihashes = newhashes\n",
        "        self.root = ihashes[0]\n",
        "\n",
        "    def getroot(self):\n",
        "        return self.root\n",
        "    def getproof(self, index):\n",
        "        #return the proof for the data item at index\n",
        "        #as a list of hashes\n",
        "        #the proof should be the sibling hashes on the path to the root\n",
        "        #if the index is too large, return an empty list\n",
        "        if index >= self.length:\n",
        "            return []\n",
        "        proof = []\n",
        "        ihashes = self.hashes\n",
        "        while len(ihashes) > 1:\n",
        "            if index % 2 == 0:\n",
        "                proof.append(ihashes[index+1])\n",
        "            else:\n",
        "                proof.append(ihashes[index-1])\n",
        "            index = index//2\n",
        "            newhashes = []\n",
        "            for i in range(0,len(ihashes),2):\n",
        "                newhashes.append(hash(ihashes[i]+ihashes[i+1]))\n",
        "            ihashes = newhashes\n",
        "            \n",
        "        return proof\n",
        "        \n",
        "    \n",
        "def checkproof(root, index, proof, length, data):\n",
        "        #check if the proof is correct for the data item at index\n",
        "        #return True or False\n",
        "        h = hash(data)\n",
        "        i = index\n",
        "        for p in proof:\n",
        "            if i % 2 == 0:\n",
        "                h = hash(h+p)\n",
        "            else:\n",
        "                h = hash(p+h)\n",
        "            i = i//2\n",
        "        return h == root\n"
      ]
    },
    {
      "cell_type": "code",
      "execution_count": 58,
      "id": "c6bc4334",
      "metadata": {},
      "outputs": [
        {
          "name": "stdout",
          "output_type": "stream",
          "text": [
            "['ca978112ca1bbdcafac231b39a23dc4da786eff8147c4e72b9807785afee48bb', '3e23e8160039594a33894f6564e1b1348bbd7a0088d42c4acb73eeaed59c009d', '2e7d2c03a9507ae265ecf5b5356885a53393a2029d241394997265a1a25aefc6', '18ac3e7343f016890c510e93f935261169d9e3f565436429830faf0934f4f8e4']\n",
            "['ca978112ca1bbdcafac231b39a23dc4da786eff8147c4e72b9807785afee48bb', 'd3a0f1c792ccf7f1708d5422696263e35755a86917ea76ef9242bd4a8cf4891a']\n",
            "True\n"
          ]
        }
      ],
      "source": [
        "mt = MerkleTree([\"a\",\"b\",\"c\",\"d\"], 4)\n",
        "print(mt.hashes)\n",
        "\n",
        "p = mt.getproof(1)\n",
        "print(p)\n",
        "\n",
        "print(checkproof(mt.getroot(), 1, p, 4, \"b\"))"
      ]
    }
  ],
  "metadata": {
    "colab": {
      "provenance": []
    },
    "kernelspec": {
      "display_name": "Python 3 (ipykernel)",
      "language": "python",
      "name": "python3"
    },
    "language_info": {
      "codemirror_mode": {
        "name": "ipython",
        "version": 3
      },
      "file_extension": ".py",
      "mimetype": "text/x-python",
      "name": "python",
      "nbconvert_exporter": "python",
      "pygments_lexer": "ipython3",
      "version": "3.10.10"
    }
  },
  "nbformat": 4,
  "nbformat_minor": 5
}
