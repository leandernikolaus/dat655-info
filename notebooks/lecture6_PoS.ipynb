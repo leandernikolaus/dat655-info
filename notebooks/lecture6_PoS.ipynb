{
  "cells": [
    {
      "cell_type": "markdown",
      "metadata": {
        "id": "fN4Yg7-7bPIK"
      },
      "source": [
        "# lecture 6 - PoS, Committee-based blockchains"
      ]
    },
    {
      "cell_type": "markdown",
      "metadata": {
        "id": "vHKbd103bb-x"
      },
      "source": [
        "## Imports and helper functions"
      ]
    },
    {
      "cell_type": "code",
      "execution_count": null,
      "metadata": {
        "id": "TtPToVR_azbM"
      },
      "outputs": [],
      "source": [
        "#Import statements\n",
        "import hashlib as hasher\n",
        "import random\n",
        "import time\n",
        "import matplotlib.pyplot as plt\n",
        "\n",
        "def hashbits(input):\n",
        "    hash_obj = hasher.sha256()\n",
        "    inputbytes = input.encode()\n",
        "    #print(type(inputbytes))\n",
        "    hash_obj.update(inputbytes)\n",
        "    hashbytes = hash_obj.digest()\n",
        "    return ''.join(f'{x:08b}' for x in hashbytes)\n",
        "\n",
        "def hash(input):\n",
        "    hash_obj = hasher.sha256()\n",
        "    inputbytes = input.encode()\n",
        "    #print(type(inputbytes))\n",
        "    hash_obj.update(inputbytes)\n",
        "    return hash_obj.hexdigest()"
      ]
    },
    {
      "cell_type": "code",
      "execution_count": null,
      "metadata": {
        "colab": {
          "base_uri": "https://localhost:8080/"
        },
        "id": "PWrH5kgVbd5d",
        "outputId": "c960ec15-7114-418c-f367-a5eb58e3eab6"
      },
      "outputs": [
        {
          "name": "stderr",
          "output_type": "stream",
          "text": [
            "/usr/local/lib/python3.7/dist-packages/IPython/html.py:14: ShimWarning: The `IPython.html` package has been deprecated since IPython 4.0. You should import from `notebook` instead. `IPython.html.widgets` has moved to `ipywidgets`.\n",
            "  \"`IPython.html.widgets` has moved to `ipywidgets`.\", ShimWarning)\n"
          ]
        }
      ],
      "source": [
        "####### Drawing blockchain, not important\n",
        "from IPython.display import HTML, display\n",
        "from ipywidgets import interact\n",
        "\n",
        "def maxHeight(parent):\n",
        "  if len(parent.children) == 0:\n",
        "    return parent.height\n",
        "  max = 0\n",
        "  for child in parent.children:\n",
        "    m = maxHeight(child)\n",
        "    if m> max:\n",
        "      max = m\n",
        "  return max\n",
        "\n",
        "\n",
        "def drawBlockchain(parent, level, html, parentLevel, childN = 0, total = 0):\n",
        "  color = \"#AEF751\"\n",
        "  if parentLevel!=-1:\n",
        "    color = \"#7EDBF6\"\n",
        "  parent.children.sort(key=lambda x: (maxHeight(x)), reverse=True)\n",
        "  xx = childN\n",
        "  level += childN\n",
        "  html += '<g>'\n",
        "  html += '<rect x=\"'+str(30+ 100*parent.height)+'\" y=\"'+str(30+ 100*level)+'\" width=\"60\" height=\"60\" stroke=\"black\" stroke-width=\"1\" fill=\"'+color+'\" />'\n",
        "  html += '<text x=\"'+str((60+ 100*parent.height))+'\" y=\"'+str((60+ 100*level))+'\" dominant-baseline=\"middle\" text-anchor=\"middle\" font-family=\"Verdana\" font-size=\"10\" font-weight=\"bold\" fill=\"black\">'+str(parent.creator.name)+'</text>'\n",
        "  if parentLevel != -1:\n",
        "    if (parent.previous.children.index(parent)) == 0:\n",
        "      html += '<line stroke-width=\"1px\" stroke=\"#000000\"  x1='+str(30+ 100*parent.height)+' y1=\"'+str(60+ 100*level)+'\" x2=\"'+str(95+ 100*parent.previous.height)+'\" y2=\"'+str(60+ 100*parentLevel)+'\" style=\"marker-end: url(#markerArrow)\"/>'\n",
        "    else:\n",
        "      html += '<line stroke-width=\"1px\" stroke=\"#000000\"  x1='+str(30+ 100*parent.height)+' y1=\"'+str(60+ 100*level)+'\" x2=\"'+str(65+ 100*parent.previous.height)+'\" y2=\"'+str(95+ 100*parentLevel)+'\" style=\"marker-end: url(#markerArrow)\"/>'\n",
        "  html += '</g>'\n",
        "  l = level\n",
        "  childN = 0\n",
        "  for child in parent.children:\n",
        "    html,n, t = drawBlockchain(child, l, html, level, childN, total)\n",
        "    if n > 0:\n",
        "      childN += n\n",
        "    if t > 0:\n",
        "      total += t\n",
        "    l = l+1\n",
        "  return html, childN+ len(parent.children)-1, total+ len(parent.children)-1\n",
        "\n",
        "\n",
        "def show(bc):\n",
        "  htmll = \"\"\n",
        "  html = \"\"\n",
        "  htmll, n, t = drawBlockchain(bc.chain[0], 0, html, -1)\n",
        "  html = '<svg height=\"'+str(115*(n+1))+'\" width=\"'+str(130*maxHeight(bc.chain[0]))+'\">'\n",
        "  html += '<defs><marker id=\"markerArrow\" markerWidth=\"10\" markerHeight=\"10\" refX=\"2\" refY=\"6\" orient=\"auto\"><path d=\"M2,2 L2,11 L10,6 L2,2\" style=\"fill: #000000;\" /> </marker> </defs>'\n",
        "  html += htmll\n",
        "  html += '</svg>'\n",
        "  display(HTML(html))"
      ]
    },
    {
      "cell_type": "markdown",
      "metadata": {
        "id": "aEgLJTCvbqnD"
      },
      "source": [
        "## Proof of Stake\n",
        "![Proof of Stake Blockchain](PoSoverview.png)\n"
      ]
    },
    {
      "cell_type": "markdown",
      "metadata": {
        "id": "tNyR7GlJbvOs"
      },
      "source": [
        "### Exercise 1: Proof of Stake (Peer Coin)\n",
        "\n",
        "PoS is one of the widely used alternatives for PoW. In the PoS the mining power is replaced with stakes.  \n",
        "\n",
        "- Below there are stubs for Blockchain, Block, and Minter. Each block has a property as the timestamp it was created on. Note the hash_block function.\n",
        "- The difficulty now is not the number of zeros, it is a decimal number.\n",
        "- Complete `isSmaller` function to return 'True' if the first 15 bits of the block hash is valid based on blockchain difficulty and minter stake.\n",
        "- Update the `isSmaller` function. Assume the state of a Minter has increased by 1 for every block he has created so far. You can use the `checkMiner` function.\n",
        "- (optional) Try to adjust the `isSmaller` function, based on the total stake that is in the blockchain."
      ]
    },
    {
      "cell_type": "code",
      "execution_count": 3,
      "metadata": {
        "id": "Bzqb3Em8eTeW"
      },
      "outputs": [],
      "source": [
        "max = int(\"1111111111111111\",2)"
      ]
    },
    {
      "cell_type": "code",
      "execution_count": null,
      "metadata": {
        "id": "s3RzvP9CcOF2"
      },
      "outputs": [
        {
          "ename": "IndentationError",
          "evalue": "expected an indented block after function definition on line 58 (327595960.py, line 64)",
          "output_type": "error",
          "traceback": [
            "\u001b[0;36m  Cell \u001b[0;32mIn[4], line 64\u001b[0;36m\u001b[0m\n\u001b[0;31m    def checkMiner(self, miner, last=None):\u001b[0m\n\u001b[0m    ^\u001b[0m\n\u001b[0;31mIndentationError\u001b[0m\u001b[0;31m:\u001b[0m expected an indented block after function definition on line 58\n"
          ]
        }
      ],
      "source": [
        "class Block:\n",
        "    def __init__(self, data, creator=None, previous=None, time=0):\n",
        "        self.data = data\n",
        "        if previous is None:\n",
        "            self.previous = None\n",
        "            self.previous_hash = \"\"\n",
        "            self.creator = Minter(0 , \"0\")\n",
        "            self.height = 0\n",
        "        else:\n",
        "            self.previous = previous\n",
        "            self.previous_hash = previous.hash\n",
        "            self.creator = creator\n",
        "            self.height = previous.height+1\n",
        "        self.timestamp = time\n",
        "        self.hash = self.hash_block()\n",
        "        self.children = []\n",
        "\n",
        "    def pos_hash(self):\n",
        "        return hashbits(self.creator.name + self.previous_hash + str(self.timestamp))\n",
        "\n",
        "    def hash_block(self):\n",
        "        return hashbits(self.creator.name + str(self.data) + self.previous_hash + str(self.timestamp))\n",
        "\n",
        "    def print(self):\n",
        "      print(self.data + \" \"+ self.creator.name + \" \" + str(self.height))\n",
        "\n",
        "class Blockchain:\n",
        "    def __init__(self, genesis_data, difficulty):\n",
        "        self.chain = []\n",
        "        self.chain.append(Block(genesis_data))\n",
        "        self.difficulty = difficulty\n",
        "        self.size = 0\n",
        "        self.totalStake = 0\n",
        "\n",
        "    def lastBlock(self):\n",
        "      max = self.chain[0].height\n",
        "      for block in self.chain:\n",
        "        if block.height > max:\n",
        "          max = block.height\n",
        "      maxes = [block for block in self.chain if block.height == max]\n",
        "      r = random.choices(maxes, k=1)\n",
        "      return r[0]\n",
        "\n",
        "    def lastBlocks(self):\n",
        "      max = self.chain[0].height\n",
        "      for block in self.chain:\n",
        "        if block.height > max:\n",
        "          max = block.height\n",
        "      maxes = [block for block in self.chain if block.height == max]\n",
        "      return maxes\n",
        "\n",
        "    def add(self, newBlock):\n",
        "        self.chain.append(newBlock)\n",
        "        newBlock.previous.children.append(newBlock)\n",
        "        self.size +=1\n",
        "        #newBlock.creator.stake+=1\n",
        "\n",
        "    def isSmaller(self, hashStr, creator):\n",
        "      #add this function\n",
        "      # use int(hashStr[0:15],2) to convert the first 15 bits to int\n",
        "      # compare it with the difficulty, multiplicated by the creators stake\n",
        "\n",
        "\n",
        "    def checkMiner(self, miner, last=None):\n",
        "      #add this function\n",
        "      # return the total number of blocks starting from the block 'last' created by a specific miner\n",
        "      # If last is None use self.lastBlock()\n",
        "\n",
        "class Minter:\n",
        "  def __init__(self, stake, name, blockchain=None):\n",
        "    self.stake = stake\n",
        "    self.name = name\n",
        "    self.blockchain = blockchain\n",
        "\n",
        "    if self.blockchain != None:\n",
        "      self.blockchain.totalStake += self.stake\n",
        "      self.lastBlock = blockchain.lastBlock()\n",
        "\n",
        "  def updateLast(self):\n",
        "    latest = self.blockchain.lastBlock()\n",
        "    if latest.height > self.lastBlock.height:\n",
        "        self.lastBlock = latest\n",
        "\n",
        "  def PoSSolver(self, seconds):\n",
        "    newBlock = Block(str(self.blockchain.size), self, self.lastBlock, seconds)\n",
        "    h = newBlock.pos_hash()\n",
        "    if self.blockchain.isSmaller(h,self):\n",
        "      self.blockchain.add(newBlock)\n",
        "      self.lastBlock = newBlock\n",
        "\n",
        "bc = Blockchain(\"0\" , 150)\n",
        "m1 = Minter(10 ,\"m1\", bc)\n",
        "m2 = Minter(15, \"m2\", bc)\n",
        "m3 = Minter(20, \"m3\", bc)\n",
        "m4 = Minter(12, \"m4\", bc)\n",
        "seconds = 0  \n",
        "while bc.size < 30:\n",
        "  seconds += 1\n",
        "  m1.updateLast()\n",
        "  m2.updateLast()\n",
        "  m3.updateLast()\n",
        "  m4.updateLast()\n",
        "  \n",
        "  m1.PoSSolver(seconds)\n",
        "  m2.PoSSolver(seconds)\n",
        "  \n",
        "  m3.PoSSolver(seconds)\n",
        "  m4.PoSSolver(seconds)\n",
        "\n",
        "print(\"m1 initial stake: {} , m1 blocks found {}\".format(m1.stake,bc.checkMiner(m1)))\n",
        "print(\"m2 initial stake: {} , m2 blocks found {}\".format(m2.stake,bc.checkMiner(m2)))\n",
        "print(\"m3 initial stake: {} , m3 blocks found {}\".format(m3.stake,bc.checkMiner(m3)))\n",
        "print(\"m4 initial stake: {} , m4 blocks found {}\".format(m4.stake,bc.checkMiner(m4)))"
      ]
    },
    {
      "cell_type": "code",
      "execution_count": 5,
      "metadata": {},
      "outputs": [
        {
          "ename": "NameError",
          "evalue": "name 'bc' is not defined",
          "output_type": "error",
          "traceback": [
            "\u001b[0;31m---------------------------------------------------------------------------\u001b[0m",
            "\u001b[0;31mNameError\u001b[0m                                 Traceback (most recent call last)",
            "Cell \u001b[0;32mIn[5], line 1\u001b[0m\n\u001b[0;32m----> 1\u001b[0m \u001b[38;5;28;01mfor\u001b[39;00m b \u001b[38;5;129;01min\u001b[39;00m \u001b[43mbc\u001b[49m\u001b[38;5;241m.\u001b[39mchain:\n\u001b[1;32m      2\u001b[0m     \u001b[38;5;28mprint\u001b[39m(b\u001b[38;5;241m.\u001b[39mtimestamp, end\u001b[38;5;241m=\u001b[39m\u001b[38;5;124m\"\u001b[39m\u001b[38;5;124m, \u001b[39m\u001b[38;5;124m\"\u001b[39m)\n",
            "\u001b[0;31mNameError\u001b[0m: name 'bc' is not defined"
          ]
        }
      ],
      "source": [
        "for b in bc.chain:\n",
        "    print(b.timestamp, end=\", \")"
      ]
    },
    {
      "cell_type": "code",
      "execution_count": null,
      "metadata": {
        "colab": {
          "base_uri": "https://localhost:8080/",
          "height": 155
        },
        "id": "1ZnAJPhlfA0Q",
        "outputId": "e38d42b7-cdf1-4d48-b443-60aaa837b0fd"
      },
      "outputs": [
        {
          "data": {
            "text/html": [
              "<svg height=\"115\" width=\"7800\"><defs><marker id=\"markerArrow\" markerWidth=\"10\" markerHeight=\"10\" refX=\"2\" refY=\"6\" orient=\"auto\"><path d=\"M2,2 L2,11 L10,6 L2,2\" style=\"fill: #000000;\" /> </marker> </defs><g><rect x=\"30\" y=\"30\" width=\"60\" height=\"60\" stroke=\"black\" stroke-width=\"1\" fill=\"#AEF751\" /><text x=\"60\" y=\"60\" dominant-baseline=\"middle\" text-anchor=\"middle\" font-family=\"Verdana\" font-size=\"10\" font-weight=\"bold\" fill=\"black\">0</text></g><g><rect x=\"130\" y=\"30\" width=\"60\" height=\"60\" stroke=\"black\" stroke-width=\"1\" fill=\"#7EDBF6\" /><text x=\"160\" y=\"60\" dominant-baseline=\"middle\" text-anchor=\"middle\" font-family=\"Verdana\" font-size=\"10\" font-weight=\"bold\" fill=\"black\">m2</text><line stroke-width=\"1px\" stroke=\"#000000\"  x1=130 y1=\"60\" x2=\"95\" y2=\"60\" style=\"marker-end: url(#markerArrow)\"/></g><g><rect x=\"230\" y=\"30\" width=\"60\" height=\"60\" stroke=\"black\" stroke-width=\"1\" fill=\"#7EDBF6\" /><text x=\"260\" y=\"60\" dominant-baseline=\"middle\" text-anchor=\"middle\" font-family=\"Verdana\" font-size=\"10\" font-weight=\"bold\" fill=\"black\">m3</text><line stroke-width=\"1px\" stroke=\"#000000\"  x1=230 y1=\"60\" x2=\"195\" y2=\"60\" style=\"marker-end: url(#markerArrow)\"/></g><g><rect x=\"330\" y=\"30\" width=\"60\" height=\"60\" stroke=\"black\" stroke-width=\"1\" fill=\"#7EDBF6\" /><text x=\"360\" y=\"60\" dominant-baseline=\"middle\" text-anchor=\"middle\" font-family=\"Verdana\" font-size=\"10\" font-weight=\"bold\" fill=\"black\">m4</text><line stroke-width=\"1px\" stroke=\"#000000\"  x1=330 y1=\"60\" x2=\"295\" y2=\"60\" style=\"marker-end: url(#markerArrow)\"/></g><g><rect x=\"430\" y=\"30\" width=\"60\" height=\"60\" stroke=\"black\" stroke-width=\"1\" fill=\"#7EDBF6\" /><text x=\"460\" y=\"60\" dominant-baseline=\"middle\" text-anchor=\"middle\" font-family=\"Verdana\" font-size=\"10\" font-weight=\"bold\" fill=\"black\">m2</text><line stroke-width=\"1px\" stroke=\"#000000\"  x1=430 y1=\"60\" x2=\"395\" y2=\"60\" style=\"marker-end: url(#markerArrow)\"/></g><g><rect x=\"530\" y=\"30\" width=\"60\" height=\"60\" stroke=\"black\" stroke-width=\"1\" fill=\"#7EDBF6\" /><text x=\"560\" y=\"60\" dominant-baseline=\"middle\" text-anchor=\"middle\" font-family=\"Verdana\" font-size=\"10\" font-weight=\"bold\" fill=\"black\">m4</text><line stroke-width=\"1px\" stroke=\"#000000\"  x1=530 y1=\"60\" x2=\"495\" y2=\"60\" style=\"marker-end: url(#markerArrow)\"/></g><g><rect x=\"630\" y=\"30\" width=\"60\" height=\"60\" stroke=\"black\" stroke-width=\"1\" fill=\"#7EDBF6\" /><text x=\"660\" y=\"60\" dominant-baseline=\"middle\" text-anchor=\"middle\" font-family=\"Verdana\" font-size=\"10\" font-weight=\"bold\" fill=\"black\">m4</text><line stroke-width=\"1px\" stroke=\"#000000\"  x1=630 y1=\"60\" x2=\"595\" y2=\"60\" style=\"marker-end: url(#markerArrow)\"/></g><g><rect x=\"730\" y=\"30\" width=\"60\" height=\"60\" stroke=\"black\" stroke-width=\"1\" fill=\"#7EDBF6\" /><text x=\"760\" y=\"60\" dominant-baseline=\"middle\" text-anchor=\"middle\" font-family=\"Verdana\" font-size=\"10\" font-weight=\"bold\" fill=\"black\">m3</text><line stroke-width=\"1px\" stroke=\"#000000\"  x1=730 y1=\"60\" x2=\"695\" y2=\"60\" style=\"marker-end: url(#markerArrow)\"/></g><g><rect x=\"830\" y=\"30\" width=\"60\" height=\"60\" stroke=\"black\" stroke-width=\"1\" fill=\"#7EDBF6\" /><text x=\"860\" y=\"60\" dominant-baseline=\"middle\" text-anchor=\"middle\" font-family=\"Verdana\" font-size=\"10\" font-weight=\"bold\" fill=\"black\">m3</text><line stroke-width=\"1px\" stroke=\"#000000\"  x1=830 y1=\"60\" x2=\"795\" y2=\"60\" style=\"marker-end: url(#markerArrow)\"/></g><g><rect x=\"930\" y=\"30\" width=\"60\" height=\"60\" stroke=\"black\" stroke-width=\"1\" fill=\"#7EDBF6\" /><text x=\"960\" y=\"60\" dominant-baseline=\"middle\" text-anchor=\"middle\" font-family=\"Verdana\" font-size=\"10\" font-weight=\"bold\" fill=\"black\">m4</text><line stroke-width=\"1px\" stroke=\"#000000\"  x1=930 y1=\"60\" x2=\"895\" y2=\"60\" style=\"marker-end: url(#markerArrow)\"/></g><g><rect x=\"1030\" y=\"30\" width=\"60\" height=\"60\" stroke=\"black\" stroke-width=\"1\" fill=\"#7EDBF6\" /><text x=\"1060\" y=\"60\" dominant-baseline=\"middle\" text-anchor=\"middle\" font-family=\"Verdana\" font-size=\"10\" font-weight=\"bold\" fill=\"black\">m3</text><line stroke-width=\"1px\" stroke=\"#000000\"  x1=1030 y1=\"60\" x2=\"995\" y2=\"60\" style=\"marker-end: url(#markerArrow)\"/></g><g><rect x=\"1130\" y=\"30\" width=\"60\" height=\"60\" stroke=\"black\" stroke-width=\"1\" fill=\"#7EDBF6\" /><text x=\"1160\" y=\"60\" dominant-baseline=\"middle\" text-anchor=\"middle\" font-family=\"Verdana\" font-size=\"10\" font-weight=\"bold\" fill=\"black\">m3</text><line stroke-width=\"1px\" stroke=\"#000000\"  x1=1130 y1=\"60\" x2=\"1095\" y2=\"60\" style=\"marker-end: url(#markerArrow)\"/></g><g><rect x=\"1230\" y=\"30\" width=\"60\" height=\"60\" stroke=\"black\" stroke-width=\"1\" fill=\"#7EDBF6\" /><text x=\"1260\" y=\"60\" dominant-baseline=\"middle\" text-anchor=\"middle\" font-family=\"Verdana\" font-size=\"10\" font-weight=\"bold\" fill=\"black\">m1</text><line stroke-width=\"1px\" stroke=\"#000000\"  x1=1230 y1=\"60\" x2=\"1195\" y2=\"60\" style=\"marker-end: url(#markerArrow)\"/></g><g><rect x=\"1330\" y=\"30\" width=\"60\" height=\"60\" stroke=\"black\" stroke-width=\"1\" fill=\"#7EDBF6\" /><text x=\"1360\" y=\"60\" dominant-baseline=\"middle\" text-anchor=\"middle\" font-family=\"Verdana\" font-size=\"10\" font-weight=\"bold\" fill=\"black\">m4</text><line stroke-width=\"1px\" stroke=\"#000000\"  x1=1330 y1=\"60\" x2=\"1295\" y2=\"60\" style=\"marker-end: url(#markerArrow)\"/></g><g><rect x=\"1430\" y=\"30\" width=\"60\" height=\"60\" stroke=\"black\" stroke-width=\"1\" fill=\"#7EDBF6\" /><text x=\"1460\" y=\"60\" dominant-baseline=\"middle\" text-anchor=\"middle\" font-family=\"Verdana\" font-size=\"10\" font-weight=\"bold\" fill=\"black\">m1</text><line stroke-width=\"1px\" stroke=\"#000000\"  x1=1430 y1=\"60\" x2=\"1395\" y2=\"60\" style=\"marker-end: url(#markerArrow)\"/></g><g><rect x=\"1530\" y=\"30\" width=\"60\" height=\"60\" stroke=\"black\" stroke-width=\"1\" fill=\"#7EDBF6\" /><text x=\"1560\" y=\"60\" dominant-baseline=\"middle\" text-anchor=\"middle\" font-family=\"Verdana\" font-size=\"10\" font-weight=\"bold\" fill=\"black\">m1</text><line stroke-width=\"1px\" stroke=\"#000000\"  x1=1530 y1=\"60\" x2=\"1495\" y2=\"60\" style=\"marker-end: url(#markerArrow)\"/></g><g><rect x=\"1630\" y=\"30\" width=\"60\" height=\"60\" stroke=\"black\" stroke-width=\"1\" fill=\"#7EDBF6\" /><text x=\"1660\" y=\"60\" dominant-baseline=\"middle\" text-anchor=\"middle\" font-family=\"Verdana\" font-size=\"10\" font-weight=\"bold\" fill=\"black\">m1</text><line stroke-width=\"1px\" stroke=\"#000000\"  x1=1630 y1=\"60\" x2=\"1595\" y2=\"60\" style=\"marker-end: url(#markerArrow)\"/></g><g><rect x=\"1730\" y=\"30\" width=\"60\" height=\"60\" stroke=\"black\" stroke-width=\"1\" fill=\"#7EDBF6\" /><text x=\"1760\" y=\"60\" dominant-baseline=\"middle\" text-anchor=\"middle\" font-family=\"Verdana\" font-size=\"10\" font-weight=\"bold\" fill=\"black\">m2</text><line stroke-width=\"1px\" stroke=\"#000000\"  x1=1730 y1=\"60\" x2=\"1695\" y2=\"60\" style=\"marker-end: url(#markerArrow)\"/></g><g><rect x=\"1830\" y=\"30\" width=\"60\" height=\"60\" stroke=\"black\" stroke-width=\"1\" fill=\"#7EDBF6\" /><text x=\"1860\" y=\"60\" dominant-baseline=\"middle\" text-anchor=\"middle\" font-family=\"Verdana\" font-size=\"10\" font-weight=\"bold\" fill=\"black\">m3</text><line stroke-width=\"1px\" stroke=\"#000000\"  x1=1830 y1=\"60\" x2=\"1795\" y2=\"60\" style=\"marker-end: url(#markerArrow)\"/></g><g><rect x=\"1930\" y=\"30\" width=\"60\" height=\"60\" stroke=\"black\" stroke-width=\"1\" fill=\"#7EDBF6\" /><text x=\"1960\" y=\"60\" dominant-baseline=\"middle\" text-anchor=\"middle\" font-family=\"Verdana\" font-size=\"10\" font-weight=\"bold\" fill=\"black\">m4</text><line stroke-width=\"1px\" stroke=\"#000000\"  x1=1930 y1=\"60\" x2=\"1895\" y2=\"60\" style=\"marker-end: url(#markerArrow)\"/></g><g><rect x=\"2030\" y=\"30\" width=\"60\" height=\"60\" stroke=\"black\" stroke-width=\"1\" fill=\"#7EDBF6\" /><text x=\"2060\" y=\"60\" dominant-baseline=\"middle\" text-anchor=\"middle\" font-family=\"Verdana\" font-size=\"10\" font-weight=\"bold\" fill=\"black\">m1</text><line stroke-width=\"1px\" stroke=\"#000000\"  x1=2030 y1=\"60\" x2=\"1995\" y2=\"60\" style=\"marker-end: url(#markerArrow)\"/></g><g><rect x=\"2130\" y=\"30\" width=\"60\" height=\"60\" stroke=\"black\" stroke-width=\"1\" fill=\"#7EDBF6\" /><text x=\"2160\" y=\"60\" dominant-baseline=\"middle\" text-anchor=\"middle\" font-family=\"Verdana\" font-size=\"10\" font-weight=\"bold\" fill=\"black\">m2</text><line stroke-width=\"1px\" stroke=\"#000000\"  x1=2130 y1=\"60\" x2=\"2095\" y2=\"60\" style=\"marker-end: url(#markerArrow)\"/></g><g><rect x=\"2230\" y=\"30\" width=\"60\" height=\"60\" stroke=\"black\" stroke-width=\"1\" fill=\"#7EDBF6\" /><text x=\"2260\" y=\"60\" dominant-baseline=\"middle\" text-anchor=\"middle\" font-family=\"Verdana\" font-size=\"10\" font-weight=\"bold\" fill=\"black\">m3</text><line stroke-width=\"1px\" stroke=\"#000000\"  x1=2230 y1=\"60\" x2=\"2195\" y2=\"60\" style=\"marker-end: url(#markerArrow)\"/></g><g><rect x=\"2330\" y=\"30\" width=\"60\" height=\"60\" stroke=\"black\" stroke-width=\"1\" fill=\"#7EDBF6\" /><text x=\"2360\" y=\"60\" dominant-baseline=\"middle\" text-anchor=\"middle\" font-family=\"Verdana\" font-size=\"10\" font-weight=\"bold\" fill=\"black\">m3</text><line stroke-width=\"1px\" stroke=\"#000000\"  x1=2330 y1=\"60\" x2=\"2295\" y2=\"60\" style=\"marker-end: url(#markerArrow)\"/></g><g><rect x=\"2430\" y=\"30\" width=\"60\" height=\"60\" stroke=\"black\" stroke-width=\"1\" fill=\"#7EDBF6\" /><text x=\"2460\" y=\"60\" dominant-baseline=\"middle\" text-anchor=\"middle\" font-family=\"Verdana\" font-size=\"10\" font-weight=\"bold\" fill=\"black\">m2</text><line stroke-width=\"1px\" stroke=\"#000000\"  x1=2430 y1=\"60\" x2=\"2395\" y2=\"60\" style=\"marker-end: url(#markerArrow)\"/></g><g><rect x=\"2530\" y=\"30\" width=\"60\" height=\"60\" stroke=\"black\" stroke-width=\"1\" fill=\"#7EDBF6\" /><text x=\"2560\" y=\"60\" dominant-baseline=\"middle\" text-anchor=\"middle\" font-family=\"Verdana\" font-size=\"10\" font-weight=\"bold\" fill=\"black\">m2</text><line stroke-width=\"1px\" stroke=\"#000000\"  x1=2530 y1=\"60\" x2=\"2495\" y2=\"60\" style=\"marker-end: url(#markerArrow)\"/></g><g><rect x=\"2630\" y=\"30\" width=\"60\" height=\"60\" stroke=\"black\" stroke-width=\"1\" fill=\"#7EDBF6\" /><text x=\"2660\" y=\"60\" dominant-baseline=\"middle\" text-anchor=\"middle\" font-family=\"Verdana\" font-size=\"10\" font-weight=\"bold\" fill=\"black\">m1</text><line stroke-width=\"1px\" stroke=\"#000000\"  x1=2630 y1=\"60\" x2=\"2595\" y2=\"60\" style=\"marker-end: url(#markerArrow)\"/></g><g><rect x=\"2730\" y=\"30\" width=\"60\" height=\"60\" stroke=\"black\" stroke-width=\"1\" fill=\"#7EDBF6\" /><text x=\"2760\" y=\"60\" dominant-baseline=\"middle\" text-anchor=\"middle\" font-family=\"Verdana\" font-size=\"10\" font-weight=\"bold\" fill=\"black\">m1</text><line stroke-width=\"1px\" stroke=\"#000000\"  x1=2730 y1=\"60\" x2=\"2695\" y2=\"60\" style=\"marker-end: url(#markerArrow)\"/></g><g><rect x=\"2830\" y=\"30\" width=\"60\" height=\"60\" stroke=\"black\" stroke-width=\"1\" fill=\"#7EDBF6\" /><text x=\"2860\" y=\"60\" dominant-baseline=\"middle\" text-anchor=\"middle\" font-family=\"Verdana\" font-size=\"10\" font-weight=\"bold\" fill=\"black\">m2</text><line stroke-width=\"1px\" stroke=\"#000000\"  x1=2830 y1=\"60\" x2=\"2795\" y2=\"60\" style=\"marker-end: url(#markerArrow)\"/></g><g><rect x=\"2930\" y=\"30\" width=\"60\" height=\"60\" stroke=\"black\" stroke-width=\"1\" fill=\"#7EDBF6\" /><text x=\"2960\" y=\"60\" dominant-baseline=\"middle\" text-anchor=\"middle\" font-family=\"Verdana\" font-size=\"10\" font-weight=\"bold\" fill=\"black\">m3</text><line stroke-width=\"1px\" stroke=\"#000000\"  x1=2930 y1=\"60\" x2=\"2895\" y2=\"60\" style=\"marker-end: url(#markerArrow)\"/></g><g><rect x=\"3030\" y=\"30\" width=\"60\" height=\"60\" stroke=\"black\" stroke-width=\"1\" fill=\"#7EDBF6\" /><text x=\"3060\" y=\"60\" dominant-baseline=\"middle\" text-anchor=\"middle\" font-family=\"Verdana\" font-size=\"10\" font-weight=\"bold\" fill=\"black\">m1</text><line stroke-width=\"1px\" stroke=\"#000000\"  x1=3030 y1=\"60\" x2=\"2995\" y2=\"60\" style=\"marker-end: url(#markerArrow)\"/></g><g><rect x=\"3130\" y=\"30\" width=\"60\" height=\"60\" stroke=\"black\" stroke-width=\"1\" fill=\"#7EDBF6\" /><text x=\"3160\" y=\"60\" dominant-baseline=\"middle\" text-anchor=\"middle\" font-family=\"Verdana\" font-size=\"10\" font-weight=\"bold\" fill=\"black\">m4</text><line stroke-width=\"1px\" stroke=\"#000000\"  x1=3130 y1=\"60\" x2=\"3095\" y2=\"60\" style=\"marker-end: url(#markerArrow)\"/></g><g><rect x=\"3230\" y=\"30\" width=\"60\" height=\"60\" stroke=\"black\" stroke-width=\"1\" fill=\"#7EDBF6\" /><text x=\"3260\" y=\"60\" dominant-baseline=\"middle\" text-anchor=\"middle\" font-family=\"Verdana\" font-size=\"10\" font-weight=\"bold\" fill=\"black\">m2</text><line stroke-width=\"1px\" stroke=\"#000000\"  x1=3230 y1=\"60\" x2=\"3195\" y2=\"60\" style=\"marker-end: url(#markerArrow)\"/></g><g><rect x=\"3330\" y=\"30\" width=\"60\" height=\"60\" stroke=\"black\" stroke-width=\"1\" fill=\"#7EDBF6\" /><text x=\"3360\" y=\"60\" dominant-baseline=\"middle\" text-anchor=\"middle\" font-family=\"Verdana\" font-size=\"10\" font-weight=\"bold\" fill=\"black\">m1</text><line stroke-width=\"1px\" stroke=\"#000000\"  x1=3330 y1=\"60\" x2=\"3295\" y2=\"60\" style=\"marker-end: url(#markerArrow)\"/></g><g><rect x=\"3430\" y=\"30\" width=\"60\" height=\"60\" stroke=\"black\" stroke-width=\"1\" fill=\"#7EDBF6\" /><text x=\"3460\" y=\"60\" dominant-baseline=\"middle\" text-anchor=\"middle\" font-family=\"Verdana\" font-size=\"10\" font-weight=\"bold\" fill=\"black\">m1</text><line stroke-width=\"1px\" stroke=\"#000000\"  x1=3430 y1=\"60\" x2=\"3395\" y2=\"60\" style=\"marker-end: url(#markerArrow)\"/></g><g><rect x=\"3530\" y=\"30\" width=\"60\" height=\"60\" stroke=\"black\" stroke-width=\"1\" fill=\"#7EDBF6\" /><text x=\"3560\" y=\"60\" dominant-baseline=\"middle\" text-anchor=\"middle\" font-family=\"Verdana\" font-size=\"10\" font-weight=\"bold\" fill=\"black\">m3</text><line stroke-width=\"1px\" stroke=\"#000000\"  x1=3530 y1=\"60\" x2=\"3495\" y2=\"60\" style=\"marker-end: url(#markerArrow)\"/></g><g><rect x=\"3630\" y=\"30\" width=\"60\" height=\"60\" stroke=\"black\" stroke-width=\"1\" fill=\"#7EDBF6\" /><text x=\"3660\" y=\"60\" dominant-baseline=\"middle\" text-anchor=\"middle\" font-family=\"Verdana\" font-size=\"10\" font-weight=\"bold\" fill=\"black\">m4</text><line stroke-width=\"1px\" stroke=\"#000000\"  x1=3630 y1=\"60\" x2=\"3595\" y2=\"60\" style=\"marker-end: url(#markerArrow)\"/></g><g><rect x=\"3730\" y=\"30\" width=\"60\" height=\"60\" stroke=\"black\" stroke-width=\"1\" fill=\"#7EDBF6\" /><text x=\"3760\" y=\"60\" dominant-baseline=\"middle\" text-anchor=\"middle\" font-family=\"Verdana\" font-size=\"10\" font-weight=\"bold\" fill=\"black\">m4</text><line stroke-width=\"1px\" stroke=\"#000000\"  x1=3730 y1=\"60\" x2=\"3695\" y2=\"60\" style=\"marker-end: url(#markerArrow)\"/></g><g><rect x=\"3830\" y=\"30\" width=\"60\" height=\"60\" stroke=\"black\" stroke-width=\"1\" fill=\"#7EDBF6\" /><text x=\"3860\" y=\"60\" dominant-baseline=\"middle\" text-anchor=\"middle\" font-family=\"Verdana\" font-size=\"10\" font-weight=\"bold\" fill=\"black\">m1</text><line stroke-width=\"1px\" stroke=\"#000000\"  x1=3830 y1=\"60\" x2=\"3795\" y2=\"60\" style=\"marker-end: url(#markerArrow)\"/></g><g><rect x=\"3930\" y=\"30\" width=\"60\" height=\"60\" stroke=\"black\" stroke-width=\"1\" fill=\"#7EDBF6\" /><text x=\"3960\" y=\"60\" dominant-baseline=\"middle\" text-anchor=\"middle\" font-family=\"Verdana\" font-size=\"10\" font-weight=\"bold\" fill=\"black\">m1</text><line stroke-width=\"1px\" stroke=\"#000000\"  x1=3930 y1=\"60\" x2=\"3895\" y2=\"60\" style=\"marker-end: url(#markerArrow)\"/></g><g><rect x=\"4030\" y=\"30\" width=\"60\" height=\"60\" stroke=\"black\" stroke-width=\"1\" fill=\"#7EDBF6\" /><text x=\"4060\" y=\"60\" dominant-baseline=\"middle\" text-anchor=\"middle\" font-family=\"Verdana\" font-size=\"10\" font-weight=\"bold\" fill=\"black\">m1</text><line stroke-width=\"1px\" stroke=\"#000000\"  x1=4030 y1=\"60\" x2=\"3995\" y2=\"60\" style=\"marker-end: url(#markerArrow)\"/></g><g><rect x=\"4130\" y=\"30\" width=\"60\" height=\"60\" stroke=\"black\" stroke-width=\"1\" fill=\"#7EDBF6\" /><text x=\"4160\" y=\"60\" dominant-baseline=\"middle\" text-anchor=\"middle\" font-family=\"Verdana\" font-size=\"10\" font-weight=\"bold\" fill=\"black\">m2</text><line stroke-width=\"1px\" stroke=\"#000000\"  x1=4130 y1=\"60\" x2=\"4095\" y2=\"60\" style=\"marker-end: url(#markerArrow)\"/></g><g><rect x=\"4230\" y=\"30\" width=\"60\" height=\"60\" stroke=\"black\" stroke-width=\"1\" fill=\"#7EDBF6\" /><text x=\"4260\" y=\"60\" dominant-baseline=\"middle\" text-anchor=\"middle\" font-family=\"Verdana\" font-size=\"10\" font-weight=\"bold\" fill=\"black\">m2</text><line stroke-width=\"1px\" stroke=\"#000000\"  x1=4230 y1=\"60\" x2=\"4195\" y2=\"60\" style=\"marker-end: url(#markerArrow)\"/></g><g><rect x=\"4330\" y=\"30\" width=\"60\" height=\"60\" stroke=\"black\" stroke-width=\"1\" fill=\"#7EDBF6\" /><text x=\"4360\" y=\"60\" dominant-baseline=\"middle\" text-anchor=\"middle\" font-family=\"Verdana\" font-size=\"10\" font-weight=\"bold\" fill=\"black\">m1</text><line stroke-width=\"1px\" stroke=\"#000000\"  x1=4330 y1=\"60\" x2=\"4295\" y2=\"60\" style=\"marker-end: url(#markerArrow)\"/></g><g><rect x=\"4430\" y=\"30\" width=\"60\" height=\"60\" stroke=\"black\" stroke-width=\"1\" fill=\"#7EDBF6\" /><text x=\"4460\" y=\"60\" dominant-baseline=\"middle\" text-anchor=\"middle\" font-family=\"Verdana\" font-size=\"10\" font-weight=\"bold\" fill=\"black\">m2</text><line stroke-width=\"1px\" stroke=\"#000000\"  x1=4430 y1=\"60\" x2=\"4395\" y2=\"60\" style=\"marker-end: url(#markerArrow)\"/></g><g><rect x=\"4530\" y=\"30\" width=\"60\" height=\"60\" stroke=\"black\" stroke-width=\"1\" fill=\"#7EDBF6\" /><text x=\"4560\" y=\"60\" dominant-baseline=\"middle\" text-anchor=\"middle\" font-family=\"Verdana\" font-size=\"10\" font-weight=\"bold\" fill=\"black\">m2</text><line stroke-width=\"1px\" stroke=\"#000000\"  x1=4530 y1=\"60\" x2=\"4495\" y2=\"60\" style=\"marker-end: url(#markerArrow)\"/></g><g><rect x=\"4630\" y=\"30\" width=\"60\" height=\"60\" stroke=\"black\" stroke-width=\"1\" fill=\"#7EDBF6\" /><text x=\"4660\" y=\"60\" dominant-baseline=\"middle\" text-anchor=\"middle\" font-family=\"Verdana\" font-size=\"10\" font-weight=\"bold\" fill=\"black\">m2</text><line stroke-width=\"1px\" stroke=\"#000000\"  x1=4630 y1=\"60\" x2=\"4595\" y2=\"60\" style=\"marker-end: url(#markerArrow)\"/></g><g><rect x=\"4730\" y=\"30\" width=\"60\" height=\"60\" stroke=\"black\" stroke-width=\"1\" fill=\"#7EDBF6\" /><text x=\"4760\" y=\"60\" dominant-baseline=\"middle\" text-anchor=\"middle\" font-family=\"Verdana\" font-size=\"10\" font-weight=\"bold\" fill=\"black\">m4</text><line stroke-width=\"1px\" stroke=\"#000000\"  x1=4730 y1=\"60\" x2=\"4695\" y2=\"60\" style=\"marker-end: url(#markerArrow)\"/></g><g><rect x=\"4830\" y=\"30\" width=\"60\" height=\"60\" stroke=\"black\" stroke-width=\"1\" fill=\"#7EDBF6\" /><text x=\"4860\" y=\"60\" dominant-baseline=\"middle\" text-anchor=\"middle\" font-family=\"Verdana\" font-size=\"10\" font-weight=\"bold\" fill=\"black\">m3</text><line stroke-width=\"1px\" stroke=\"#000000\"  x1=4830 y1=\"60\" x2=\"4795\" y2=\"60\" style=\"marker-end: url(#markerArrow)\"/></g><g><rect x=\"4930\" y=\"30\" width=\"60\" height=\"60\" stroke=\"black\" stroke-width=\"1\" fill=\"#7EDBF6\" /><text x=\"4960\" y=\"60\" dominant-baseline=\"middle\" text-anchor=\"middle\" font-family=\"Verdana\" font-size=\"10\" font-weight=\"bold\" fill=\"black\">m4</text><line stroke-width=\"1px\" stroke=\"#000000\"  x1=4930 y1=\"60\" x2=\"4895\" y2=\"60\" style=\"marker-end: url(#markerArrow)\"/></g><g><rect x=\"5030\" y=\"30\" width=\"60\" height=\"60\" stroke=\"black\" stroke-width=\"1\" fill=\"#7EDBF6\" /><text x=\"5060\" y=\"60\" dominant-baseline=\"middle\" text-anchor=\"middle\" font-family=\"Verdana\" font-size=\"10\" font-weight=\"bold\" fill=\"black\">m2</text><line stroke-width=\"1px\" stroke=\"#000000\"  x1=5030 y1=\"60\" x2=\"4995\" y2=\"60\" style=\"marker-end: url(#markerArrow)\"/></g><g><rect x=\"5130\" y=\"30\" width=\"60\" height=\"60\" stroke=\"black\" stroke-width=\"1\" fill=\"#7EDBF6\" /><text x=\"5160\" y=\"60\" dominant-baseline=\"middle\" text-anchor=\"middle\" font-family=\"Verdana\" font-size=\"10\" font-weight=\"bold\" fill=\"black\">m3</text><line stroke-width=\"1px\" stroke=\"#000000\"  x1=5130 y1=\"60\" x2=\"5095\" y2=\"60\" style=\"marker-end: url(#markerArrow)\"/></g><g><rect x=\"5230\" y=\"30\" width=\"60\" height=\"60\" stroke=\"black\" stroke-width=\"1\" fill=\"#7EDBF6\" /><text x=\"5260\" y=\"60\" dominant-baseline=\"middle\" text-anchor=\"middle\" font-family=\"Verdana\" font-size=\"10\" font-weight=\"bold\" fill=\"black\">m3</text><line stroke-width=\"1px\" stroke=\"#000000\"  x1=5230 y1=\"60\" x2=\"5195\" y2=\"60\" style=\"marker-end: url(#markerArrow)\"/></g><g><rect x=\"5330\" y=\"30\" width=\"60\" height=\"60\" stroke=\"black\" stroke-width=\"1\" fill=\"#7EDBF6\" /><text x=\"5360\" y=\"60\" dominant-baseline=\"middle\" text-anchor=\"middle\" font-family=\"Verdana\" font-size=\"10\" font-weight=\"bold\" fill=\"black\">m4</text><line stroke-width=\"1px\" stroke=\"#000000\"  x1=5330 y1=\"60\" x2=\"5295\" y2=\"60\" style=\"marker-end: url(#markerArrow)\"/></g><g><rect x=\"5430\" y=\"30\" width=\"60\" height=\"60\" stroke=\"black\" stroke-width=\"1\" fill=\"#7EDBF6\" /><text x=\"5460\" y=\"60\" dominant-baseline=\"middle\" text-anchor=\"middle\" font-family=\"Verdana\" font-size=\"10\" font-weight=\"bold\" fill=\"black\">m3</text><line stroke-width=\"1px\" stroke=\"#000000\"  x1=5430 y1=\"60\" x2=\"5395\" y2=\"60\" style=\"marker-end: url(#markerArrow)\"/></g><g><rect x=\"5530\" y=\"30\" width=\"60\" height=\"60\" stroke=\"black\" stroke-width=\"1\" fill=\"#7EDBF6\" /><text x=\"5560\" y=\"60\" dominant-baseline=\"middle\" text-anchor=\"middle\" font-family=\"Verdana\" font-size=\"10\" font-weight=\"bold\" fill=\"black\">m3</text><line stroke-width=\"1px\" stroke=\"#000000\"  x1=5530 y1=\"60\" x2=\"5495\" y2=\"60\" style=\"marker-end: url(#markerArrow)\"/></g><g><rect x=\"5630\" y=\"30\" width=\"60\" height=\"60\" stroke=\"black\" stroke-width=\"1\" fill=\"#7EDBF6\" /><text x=\"5660\" y=\"60\" dominant-baseline=\"middle\" text-anchor=\"middle\" font-family=\"Verdana\" font-size=\"10\" font-weight=\"bold\" fill=\"black\">m3</text><line stroke-width=\"1px\" stroke=\"#000000\"  x1=5630 y1=\"60\" x2=\"5595\" y2=\"60\" style=\"marker-end: url(#markerArrow)\"/></g><g><rect x=\"5730\" y=\"30\" width=\"60\" height=\"60\" stroke=\"black\" stroke-width=\"1\" fill=\"#7EDBF6\" /><text x=\"5760\" y=\"60\" dominant-baseline=\"middle\" text-anchor=\"middle\" font-family=\"Verdana\" font-size=\"10\" font-weight=\"bold\" fill=\"black\">m1</text><line stroke-width=\"1px\" stroke=\"#000000\"  x1=5730 y1=\"60\" x2=\"5695\" y2=\"60\" style=\"marker-end: url(#markerArrow)\"/></g><g><rect x=\"5830\" y=\"30\" width=\"60\" height=\"60\" stroke=\"black\" stroke-width=\"1\" fill=\"#7EDBF6\" /><text x=\"5860\" y=\"60\" dominant-baseline=\"middle\" text-anchor=\"middle\" font-family=\"Verdana\" font-size=\"10\" font-weight=\"bold\" fill=\"black\">m2</text><line stroke-width=\"1px\" stroke=\"#000000\"  x1=5830 y1=\"60\" x2=\"5795\" y2=\"60\" style=\"marker-end: url(#markerArrow)\"/></g><g><rect x=\"5930\" y=\"30\" width=\"60\" height=\"60\" stroke=\"black\" stroke-width=\"1\" fill=\"#7EDBF6\" /><text x=\"5960\" y=\"60\" dominant-baseline=\"middle\" text-anchor=\"middle\" font-family=\"Verdana\" font-size=\"10\" font-weight=\"bold\" fill=\"black\">m3</text><line stroke-width=\"1px\" stroke=\"#000000\"  x1=5930 y1=\"60\" x2=\"5895\" y2=\"60\" style=\"marker-end: url(#markerArrow)\"/></g><g><rect x=\"6030\" y=\"30\" width=\"60\" height=\"60\" stroke=\"black\" stroke-width=\"1\" fill=\"#7EDBF6\" /><text x=\"6060\" y=\"60\" dominant-baseline=\"middle\" text-anchor=\"middle\" font-family=\"Verdana\" font-size=\"10\" font-weight=\"bold\" fill=\"black\">m4</text><line stroke-width=\"1px\" stroke=\"#000000\"  x1=6030 y1=\"60\" x2=\"5995\" y2=\"60\" style=\"marker-end: url(#markerArrow)\"/></g></svg>"
            ],
            "text/plain": [
              "<IPython.core.display.HTML object>"
            ]
          },
          "metadata": {},
          "output_type": "display_data"
        }
      ],
      "source": [
        "show(bc)"
      ]
    },
    {
      "cell_type": "markdown",
      "metadata": {
        "id": "Q8ofD8Fd6LRm"
      },
      "source": [
        "### Exercise 2: Long range attacks\n",
        "\n",
        "Below is an attacker trying to do a long range attack.\n",
        "\n",
        "- Try the attack multible times, with different difficulty. Try also changing the base string `\"0\"`. How many blocks does the attackers chain get?"
      ]
    },
    {
      "cell_type": "code",
      "execution_count": null,
      "metadata": {
        "id": "2nKDlgEu6SDZ"
      },
      "outputs": [],
      "source": [
        "class Blockchain:\n",
        "    def __init__(self, genesis_data, difficulty):\n",
        "        self.chain = []\n",
        "        self.chain.append(Block(genesis_data))\n",
        "        self.difficulty = difficulty\n",
        "        self.size = 0\n",
        "        self.totalStake = 0\n",
        "\n",
        "    def lastBlock(self):\n",
        "      max = self.chain[0].height\n",
        "      for block in self.chain:\n",
        "        if block.height > max:\n",
        "          max = block.height\n",
        "      maxes = [block for block in self.chain if block.height == max]\n",
        "      r = random.choices(maxes, k=1)\n",
        "      return r[0]\n",
        "\n",
        "    def lastBlocks(self):\n",
        "      max = self.chain[0].height\n",
        "      for block in self.chain:\n",
        "        if block.height > max:\n",
        "          max = block.height\n",
        "      maxes = [block for block in self.chain if block.height == max]\n",
        "      return maxes\n",
        "\n",
        "    def add(self, newBlock):\n",
        "        self.chain.append(newBlock)\n",
        "        newBlock.previous.children.append(newBlock)\n",
        "        self.size +=1\n",
        "        #newBlock.creator.stake+=1\n",
        "\n",
        "    def isSmaller(self, hashStr, creator):\n",
        "      if int(hashStr[0:15],2) < self.difficulty * (creator.stake + self.checkMiner(creator, creator.lastBlock)):\n",
        "        return True\n",
        "      return False\n",
        "\n",
        "\n",
        "    def checkMiner(self, miner, last=None):\n",
        "      if last == None:\n",
        "        last = self.lastBlock()\n",
        "      count = 0\n",
        "      while last!=None:\n",
        "        if last.creator == miner:\n",
        "          count += 1\n",
        "        last = last.previous\n",
        "      return count\n",
        "\n",
        "\n",
        "class MinterLR:\n",
        "  def __init__(self, stake, name, blockchain=None):\n",
        "    self.stake = stake\n",
        "    self.name = name\n",
        "    self.blockchain = blockchain\n",
        "    if self.blockchain != None:\n",
        "      # start from genesis block\n",
        "      self.lastBlock = blockchain.chain[0]\n",
        "\n",
        "  def PoSSolver(self, seconds):\n",
        "    newBlock = Block(str(self.blockchain.size), self, self.lastBlock, seconds)\n",
        "    h = newBlock.pos_hash()\n",
        "    if self.blockchain.isSmaller(h,self):\n",
        "      self.blockchain.add(newBlock)\n",
        "      self.lastBlock = newBlock\n",
        "\n",
        "#create blockchain as above\n",
        "# try changing the \"0\" here for a different example.\n",
        "bc = Blockchain(\"0\" , 150)\n",
        "m1 = Minter(10 ,\"m1\", bc)\n",
        "m2 = Minter(15, \"m2\", bc)\n",
        "m3 = Minter(20, \"m3\", bc)\n",
        "m4 = Minter(12, \"m4\", bc)\n",
        "seconds = 0\n",
        "\n",
        "#try increasing the 20 here to run a longer example\n",
        "while bc.size < 20:\n",
        "  seconds += 1\n",
        "  m1.updateLast()\n",
        "  m1.PoSSolver(seconds)\n",
        "  m2.updateLast()\n",
        "  m2.PoSSolver(seconds)\n",
        "  m3.updateLast()\n",
        "  m3.PoSSolver(seconds)\n",
        "  m4.updateLast()\n",
        "  m4.PoSSolver(seconds)\n",
        "\n",
        "\n",
        "lastsecond = bc.lastBlock().timestamp\n",
        "\n",
        "lrm = MinterLR(20, \"lr\", bc)\n",
        "for second in range(0,lastsecond):\n",
        "  lrm.PoSSolver(second)\n",
        "\n",
        "print(\"Main chain size: {}\".format(bc.lastBlock().height))\n",
        "print(\"Attack chain size: {}\".format(lrm.lastBlock.height))"
      ]
    },
    {
      "cell_type": "code",
      "execution_count": null,
      "metadata": {
        "id": "YMIdQdEi7yml"
      },
      "outputs": [],
      "source": [
        "show(bc)"
      ]
    },
    {
      "cell_type": "markdown",
      "metadata": {
        "id": "HXSiyEROodVN"
      },
      "source": [
        "### Exercise 3: PoW minter\n",
        "\n",
        "Below is a PoW minter. If this minter finds a block, he manipulates the data, to find also the next block.\n",
        "\n",
        "- Play with the example, by trying to find the next block in more iterations, or creating a longer chain.\n",
        "- Try to remove the attack, by updating the `hash_block` function."
      ]
    },
    {
      "cell_type": "code",
      "execution_count": 7,
      "metadata": {
        "id": "pA1n7gQkokiI"
      },
      "outputs": [
        {
          "ename": "NameError",
          "evalue": "name 'Minter' is not defined",
          "output_type": "error",
          "traceback": [
            "\u001b[0;31m---------------------------------------------------------------------------\u001b[0m",
            "\u001b[0;31mNameError\u001b[0m                                 Traceback (most recent call last)",
            "Cell \u001b[0;32mIn[7], line 1\u001b[0m\n\u001b[0;32m----> 1\u001b[0m \u001b[38;5;28;01mclass\u001b[39;00m \u001b[38;5;21;01mPoWMinter\u001b[39;00m(\u001b[43mMinter\u001b[49m):\n\u001b[1;32m      2\u001b[0m   \u001b[38;5;28;01mdef\u001b[39;00m \u001b[38;5;21m__init__\u001b[39m(\u001b[38;5;28mself\u001b[39m, stake, name, blockchain\u001b[38;5;241m=\u001b[39m\u001b[38;5;28;01mNone\u001b[39;00m):\n\u001b[1;32m      3\u001b[0m     \u001b[38;5;28msuper\u001b[39m()\u001b[38;5;241m.\u001b[39m\u001b[38;5;21m__init__\u001b[39m(stake, name, blockchain)\n",
            "\u001b[0;31mNameError\u001b[0m: name 'Minter' is not defined"
          ]
        }
      ],
      "source": [
        "class PoWMinter(Minter):\n",
        "  def __init__(self, stake, name, blockchain=None):\n",
        "    super().__init__(stake, name, blockchain)\n",
        "\n",
        "  def PoSSolver(self, seconds):\n",
        "    newBlock = Block(str(self.blockchain.size), self, self.lastBlock, seconds)\n",
        "    h = newBlock.pos_hash()\n",
        "    if self.blockchain.isSmaller(h,self):\n",
        "      for i in range(1000):\n",
        "        newBlockx = Block(str(self.blockchain.size) + str(i) , self, self.lastBlock, seconds)\n",
        "        nextBlock = Block(str(self.blockchain.size), self, newBlockx, seconds+1)\n",
        "        h = nextBlock.pos_hash()\n",
        "        if self.blockchain.isSmaller(h,self):\n",
        "          print(\"will find also next block\")\n",
        "          self.blockchain.add(newBlockx)\n",
        "          self.lastBlock = newBlockx\n",
        "          return\n",
        "      self.blockchain.add(newBlock)\n",
        "      self.lastBlock = newBlock\n",
        "\n",
        "bc = Blockchain(\"0\" , 150)\n",
        "m1 = PoWMinter(10 ,\"m1\", bc)\n",
        "m2 = Minter(10, \"m2\", bc)\n",
        "m3 = Minter(10, \"m3\", bc)\n",
        "m4 = Minter(10, \"m4\", bc)\n",
        "seconds = 0\n",
        "\n",
        "while bc.size < 60:\n",
        "  seconds += 1\n",
        "  m1.updateLast()\n",
        "  m2.updateLast()\n",
        "  m3.updateLast()\n",
        "  m4.updateLast()\n",
        "\n",
        "  m1.PoSSolver(seconds)\n",
        "  m2.PoSSolver(seconds)\n",
        "  m3.PoSSolver(seconds)\n",
        "  m4.PoSSolver(seconds)\n",
        "\n",
        "\n",
        "print(\"m1 initial stake: {} , m1 blocks found {}\".format(m1.stake,bc.checkMiner(m1)))\n",
        "print(\"m2 initial stake: {} , m2 blocks found {}\".format(m2.stake,bc.checkMiner(m2)))\n",
        "print(\"m3 initial stake: {} , m3 blocks found {}\".format(m3.stake,bc.checkMiner(m3)))\n",
        "print(\"m4 initial stake: {} , m4 blocks found {}\".format(m4.stake,bc.checkMiner(m4)))"
      ]
    },
    {
      "cell_type": "code",
      "execution_count": null,
      "metadata": {
        "id": "2wPxy_OdrA3W"
      },
      "outputs": [],
      "source": [
        "show(bc)"
      ]
    },
    {
      "cell_type": "markdown",
      "metadata": {
        "id": "U6idCTGwex1J"
      },
      "source": [
        "### Exercise 4: Nothing at stake\n",
        "\n",
        "Below is an example of the nothing at stake attack for you to play around with.\n",
        "\n"
      ]
    },
    {
      "cell_type": "code",
      "execution_count": null,
      "metadata": {
        "colab": {
          "base_uri": "https://localhost:8080/"
        },
        "id": "ASjQ42tdfMTE",
        "outputId": "18ad9a19-790c-42b5-be33-616a3a680142"
      },
      "outputs": [
        {
          "ename": "NameError",
          "evalue": "name 'Blockchain' is not defined",
          "output_type": "error",
          "traceback": [
            "\u001b[0;31m---------------------------------------------------------------------------\u001b[0m",
            "\u001b[0;31mNameError\u001b[0m                                 Traceback (most recent call last)",
            "Cell \u001b[0;32mIn[6], line 32\u001b[0m\n\u001b[1;32m     28\u001b[0m         count \u001b[38;5;241m+\u001b[39m\u001b[38;5;241m=\u001b[39m \u001b[38;5;241m1\u001b[39m\n\u001b[1;32m     29\u001b[0m     \u001b[38;5;66;03m#if len(self.lastBlocks) > 1:\u001b[39;00m\n\u001b[1;32m     30\u001b[0m       \u001b[38;5;66;03m#print(count)\u001b[39;00m\n\u001b[0;32m---> 32\u001b[0m bc \u001b[38;5;241m=\u001b[39m \u001b[43mBlockchain\u001b[49m(\u001b[38;5;124m\"\u001b[39m\u001b[38;5;124m0\u001b[39m\u001b[38;5;124m\"\u001b[39m , \u001b[38;5;241m150\u001b[39m)\n\u001b[1;32m     33\u001b[0m m1 \u001b[38;5;241m=\u001b[39m Minter(\u001b[38;5;241m10\u001b[39m ,\u001b[38;5;124m\"\u001b[39m\u001b[38;5;124mm1\u001b[39m\u001b[38;5;124m\"\u001b[39m, bc)\n\u001b[1;32m     34\u001b[0m m2 \u001b[38;5;241m=\u001b[39m MinterNS(\u001b[38;5;241m10\u001b[39m, \u001b[38;5;124m\"\u001b[39m\u001b[38;5;124mm2NS\u001b[39m\u001b[38;5;124m\"\u001b[39m, bc)\n",
            "\u001b[0;31mNameError\u001b[0m: name 'Blockchain' is not defined"
          ]
        }
      ],
      "source": [
        "class MinterNS:\n",
        "  def __init__(self, stake, name, blockchain=None):\n",
        "    self.stake = stake\n",
        "    self.name = name\n",
        "    self.blockchain = blockchain\n",
        "    if self.blockchain != None:\n",
        "      self.lastBlocks = blockchain.lastBlocks()\n",
        "      \n",
        "\n",
        "  def updateLast(self):\n",
        "    self.lastBlocks = self.blockchain.lastBlocks()\n",
        "    \n",
        "  def PoSSolver(self, seconds):\n",
        "    for lastBlock in self.lastBlocks:\n",
        "      newBlock = Block(str(self.blockchain.size), self, lastBlock, seconds)\n",
        "      h = newBlock.pos_hash()\n",
        "      if self.blockchain.isSmaller(h,self):\n",
        "        self.blockchain.add(newBlock)\n",
        "\n",
        "bc = Blockchain(\"0\" , 150)\n",
        "m1 = Minter(10 ,\"m1\", bc)\n",
        "m2 = MinterNS(10, \"m2NS\", bc)\n",
        "m3 = Minter(10, \"m3\", bc)\n",
        "m4 = Minter(10, \"m4\", bc)\n",
        "seconds = 0\n",
        "while bc.size < 50:\n",
        "  seconds += 1\n",
        "  m1.updateLast()\n",
        "  m2.updateLast()\n",
        "  m3.updateLast()\n",
        "  m4.updateLast()\n",
        "  m1.PoSSolver(second)\n",
        "  m2.PoSSolver(second)\n",
        "  m3.PoSSolver(second)\n",
        "  m4.PoSSolver(second)\n",
        "  \n",
        "print(\"m1 initial stake: {} , m1 blocks found {}\".format(m1.stake,bc.checkMiner(m1)))\n",
        "print(\"m2 initial stake: {} , m2 blocks found {}\".format(m2.stake,bc.checkMiner(m2)))\n",
        "print(\"m3 initial stake: {} , m3 blocks found {}\".format(m3.stake,bc.checkMiner(m3)))\n",
        "print(\"m4 initial stake: {} , m4 blocks found {}\".format(m4.stake,bc.checkMiner(m4)))\n"
      ]
    },
    {
      "cell_type": "code",
      "execution_count": null,
      "metadata": {
        "id": "133oVFH2fVjE"
      },
      "outputs": [],
      "source": [
        "show(bc)"
      ]
    },
    {
      "cell_type": "markdown",
      "metadata": {
        "id": "bNZsIYZty3Ks"
      },
      "source": []
    },
    {
      "cell_type": "code",
      "execution_count": null,
      "metadata": {
        "id": "idId6w_Ic3Ib"
      },
      "outputs": [],
      "source": [
        "int(\"1111111111111111\",2)"
      ]
    }
  ],
  "metadata": {
    "colab": {
      "provenance": []
    },
    "kernelspec": {
      "display_name": "Python 3",
      "name": "python3"
    },
    "language_info": {
      "codemirror_mode": {
        "name": "ipython",
        "version": 3
      },
      "file_extension": ".py",
      "mimetype": "text/x-python",
      "name": "python",
      "nbconvert_exporter": "python",
      "pygments_lexer": "ipython3",
      "version": "3.10.10"
    }
  },
  "nbformat": 4,
  "nbformat_minor": 0
}
